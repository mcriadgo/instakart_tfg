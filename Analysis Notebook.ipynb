{
 "cells": [
  {
   "cell_type": "code",
   "execution_count": 47,
   "metadata": {},
   "outputs": [],
   "source": [
    "import pandas as pd\n",
    "import numpy as np\n",
    "import os"
   ]
  },
  {
   "cell_type": "code",
   "execution_count": 48,
   "metadata": {},
   "outputs": [],
   "source": [
    "bbdd_folder = 'C:/Users/Marta/Documents/RecommenderSystem/BBDD'"
   ]
  },
  {
   "cell_type": "code",
   "execution_count": 49,
   "metadata": {},
   "outputs": [],
   "source": [
    "orders_df = pd.read_csv(os.path.join(bbdd_folder, 'orders.csv'))"
   ]
  },
  {
   "cell_type": "code",
   "execution_count": 50,
   "metadata": {},
   "outputs": [],
   "source": [
    "orders_train_df = pd.read_csv(os.path.join(bbdd_folder, 'order_products__train.csv'))"
   ]
  },
  {
   "cell_type": "code",
   "execution_count": 51,
   "metadata": {},
   "outputs": [],
   "source": [
    "merged_df = pd.merge(orders_train_df, orders_df, on='order_id', how='left') "
   ]
  },
  {
   "cell_type": "code",
   "execution_count": 52,
   "metadata": {},
   "outputs": [],
   "source": [
    "f_df = merged_df.dropna(how='any')"
   ]
  },
  {
   "cell_type": "code",
   "execution_count": 53,
   "metadata": {},
   "outputs": [],
   "source": [
    "f_df['ratings'] = (f_df['reordered']) / (f_df['days_since_prior_order'])"
   ]
  },
  {
   "cell_type": "code",
   "execution_count": 54,
   "metadata": {},
   "outputs": [],
   "source": [
    "f_df.replace([np.inf, 0], np.nan).dropna(how='any', inplace=True)"
   ]
  },
  {
   "cell_type": "code",
   "execution_count": 55,
   "metadata": {
    "scrolled": true
   },
   "outputs": [
    {
     "name": "stdout",
     "output_type": "stream",
     "text": [
      "<class 'pandas.core.frame.DataFrame'>\n",
      "Int64Index: 1384617 entries, 0 to 1384616\n",
      "Data columns (total 11 columns):\n",
      " #   Column                  Non-Null Count    Dtype  \n",
      "---  ------                  --------------    -----  \n",
      " 0   order_id                1384617 non-null  int64  \n",
      " 1   product_id              1384617 non-null  int64  \n",
      " 2   add_to_cart_order       1384617 non-null  int64  \n",
      " 3   reordered               1384617 non-null  int64  \n",
      " 4   user_id                 1384617 non-null  int64  \n",
      " 5   eval_set                1384617 non-null  object \n",
      " 6   order_number            1384617 non-null  int64  \n",
      " 7   order_dow               1384617 non-null  int64  \n",
      " 8   order_hour_of_day       1384617 non-null  int64  \n",
      " 9   days_since_prior_order  1384617 non-null  float64\n",
      " 10  ratings                 1381621 non-null  float64\n",
      "dtypes: float64(2), int64(8), object(1)\n",
      "memory usage: 126.8+ MB\n"
     ]
    }
   ],
   "source": [
    "f_df.info()"
   ]
  },
  {
   "cell_type": "code",
   "execution_count": 56,
   "metadata": {},
   "outputs": [],
   "source": [
    "f_df = f_df.drop(\n",
    "        ['eval_set', 'add_to_cart_order', 'reordered', 'order_number', 'order_dow', 'order_hour_of_day',\n",
    "         'days_since_prior_order'],\n",
    "        1)"
   ]
  },
  {
   "cell_type": "code",
   "execution_count": 57,
   "metadata": {},
   "outputs": [],
   "source": [
    "not_dup_df = f_df.drop_duplicates(['user_id', 'product_id'], keep='first')"
   ]
  },
  {
   "cell_type": "code",
   "execution_count": 87,
   "metadata": {},
   "outputs": [],
   "source": [
    "def train_test_val_split(data, test_ratio, val_ratio):\n",
    "    \"\"\"\n",
    "        Splits train and test sets\n",
    "        :param original_df:\n",
    "        :return (dict) results:\n",
    "    \"\"\"\n",
    "    seed = np.random.seed(42)\n",
    "    shuffle_idx = np.random.permutation(len(data))\n",
    "    test_size = int(len(data) * test_ratio)\n",
    "    val_size = int(len(data) * val_ratio)\n",
    "    train_indices = shuffle_idx[:len(data) - val_size - test_size - 1]\n",
    "    val_indices = shuffle_idx[(len(data)- val_size - test_size):(len(data)-test_size-1)]\n",
    "    test_indices = shuffle_idx[(len(data)-test_size):]\n",
    "\n",
    "    train_df = data.iloc[train_indices]\n",
    "    test_df = data.iloc[test_indices]\n",
    "    val_df = data.iloc[val_indices]\n",
    "    return train_df, test_df, val_df\n",
    "    return shuffle_idx"
   ]
  },
  {
   "cell_type": "code",
   "execution_count": 88,
   "metadata": {},
   "outputs": [],
   "source": [
    "train_df, test_df, val_df = train_test_val_split(not_dup_df, 0.2, 0.1)"
   ]
  },
  {
   "cell_type": "code",
   "execution_count": null,
   "metadata": {},
   "outputs": [],
   "source": []
  }
 ],
 "metadata": {
  "kernelspec": {
   "display_name": "Python 3",
   "language": "python",
   "name": "python3"
  },
  "language_info": {
   "codemirror_mode": {
    "name": "ipython",
    "version": 3
   },
   "file_extension": ".py",
   "mimetype": "text/x-python",
   "name": "python",
   "nbconvert_exporter": "python",
   "pygments_lexer": "ipython3",
   "version": "3.6.10"
  }
 },
 "nbformat": 4,
 "nbformat_minor": 4
}
